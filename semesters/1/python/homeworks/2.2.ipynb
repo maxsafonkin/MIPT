{
 "cells": [
  {
   "cell_type": "markdown",
   "metadata": {
    "id": "E_uv3ENCoyl1"
   },
   "source": [
    "# Task 1"
   ]
  },
  {
   "cell_type": "code",
   "execution_count": null,
   "metadata": {
    "executionInfo": {
     "elapsed": 2,
     "status": "ok",
     "timestamp": 1756920734554,
     "user": {
      "displayName": "Maxim Safonkin",
      "userId": "05904496297699313618"
     },
     "user_tz": -180
    },
    "id": "8dM7APb8m0yO"
   },
   "outputs": [],
   "source": [
    "def get_unique_geos(ids: dict[str, list[int]]) -> set[str]:\n",
    "    all_vals = [user_geo for user_geos in ids.values() for user_geo in user_geos]\n",
    "    return set(all_vals)"
   ]
  },
  {
   "cell_type": "code",
   "execution_count": 45,
   "metadata": {},
   "outputs": [
    {
     "name": "stdout",
     "output_type": "stream",
     "text": [
      "Результат: {98, 35, 15, 213, 54, 119}\n"
     ]
    }
   ],
   "source": [
    "ids = {\n",
    "    \"user1\": [213, 213, 213, 15, 213],\n",
    "    \"user2\": [54, 54, 119, 119, 119],\n",
    "    \"user3\": [213, 98, 98, 35],\n",
    "}\n",
    "unique_geos = get_unique_geos(ids=ids)\n",
    "print(f\"Результат: {unique_geos}\")"
   ]
  },
  {
   "cell_type": "markdown",
   "metadata": {
    "id": "MxG0dkQHo01U"
   },
   "source": [
    "# Task 2"
   ]
  },
  {
   "cell_type": "code",
   "execution_count": null,
   "metadata": {},
   "outputs": [],
   "source": [
    "from dataclasses import dataclass\n",
    "\n",
    "\n",
    "@dataclass\n",
    "class WordsCount:\n",
    "    words_count: int\n",
    "    queries_amount: int"
   ]
  },
  {
   "cell_type": "code",
   "execution_count": null,
   "metadata": {
    "executionInfo": {
     "elapsed": 6,
     "status": "ok",
     "timestamp": 1756920861098,
     "user": {
      "displayName": "Maxim Safonkin",
      "userId": "05904496297699313618"
     },
     "user_tz": -180
    },
    "id": "ZiJdzoehpE4x"
   },
   "outputs": [],
   "source": [
    "def calc_words_statistics(queries: list[str]):\n",
    "    queries_words_count = [len(q.split()) for q in queries]\n",
    "\n",
    "    total_words_count = {words_count: 0 for words_count in set(queries_words_count)}\n",
    "\n",
    "    for words_count in queries_words_count:\n",
    "        total_words_count[words_count] += 1\n",
    "\n",
    "    queries_count = len(queries)\n",
    "    statistics = {\n",
    "        k: round(v / queries_count, 4) * 100 for k, v in total_words_count.items()\n",
    "    }\n",
    "    return statistics"
   ]
  },
  {
   "cell_type": "code",
   "execution_count": null,
   "metadata": {},
   "outputs": [],
   "source": [
    "queries = [\n",
    "    \"смотреть сериалы онлайн\",\n",
    "    \"новости спорта\",\n",
    "    \"афиша кино\",\n",
    "    \"курс доллара\",\n",
    "    \"сериалы этим летом\",\n",
    "    \"курс по питону\",\n",
    "    \"сериалы про спорт\",\n",
    "]"
   ]
  },
  {
   "cell_type": "code",
   "execution_count": 49,
   "metadata": {},
   "outputs": [
    {
     "name": "stdout",
     "output_type": "stream",
     "text": [
      "Поисковых запросов, содержащих 2 слов(а): 42.86%\n",
      "Поисковых запросов, содержащих 3 слов(а): 57.14%\n"
     ]
    }
   ],
   "source": [
    "words_statistics = calc_words_statistics(queries=queries)\n",
    "for words_count, percentage in words_statistics.items():\n",
    "    print(f\"Поисковых запросов, содержащих {words_count} слов(а): {percentage}%\")"
   ]
  }
 ],
 "metadata": {
  "colab": {
   "authorship_tag": "ABX9TyPe/2ltZNmTd+MnuYQ1GSeu",
   "provenance": []
  },
  "kernelspec": {
   "display_name": "Python 3",
   "name": "python3"
  },
  "language_info": {
   "codemirror_mode": {
    "name": "ipython",
    "version": 3
   },
   "file_extension": ".py",
   "mimetype": "text/x-python",
   "name": "python",
   "nbconvert_exporter": "python",
   "pygments_lexer": "ipython3",
   "version": "3.11.9"
  }
 },
 "nbformat": 4,
 "nbformat_minor": 0
}
