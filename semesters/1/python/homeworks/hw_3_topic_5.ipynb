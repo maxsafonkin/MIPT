{
 "cells": [
  {
   "cell_type": "markdown",
   "id": "1f79651e",
   "metadata": {},
   "source": [
    "# Homework 3 / Topic 5"
   ]
  },
  {
   "cell_type": "markdown",
   "id": "6e4ad170",
   "metadata": {},
   "source": [
    "Сафонкин Максим Павлович"
   ]
  },
  {
   "cell_type": "markdown",
   "id": "8b39e4f9",
   "metadata": {},
   "source": [
    "## Classes"
   ]
  },
  {
   "cell_type": "code",
   "execution_count": 54,
   "id": "3eb71d96",
   "metadata": {},
   "outputs": [],
   "source": [
    "from dataclasses import dataclass\n",
    "\n",
    "\n",
    "@dataclass(slots=True)\n",
    "class Product:\n",
    "    name: str\n",
    "    price: float\n",
    "    stock: int\n",
    "\n",
    "    def update_stock(self, quantity: int) -> None:\n",
    "        if self.stock - quantity < 0:\n",
    "            print(\"Товара недостаточно на складе\")\n",
    "            return\n",
    "\n",
    "        self.stock -= quantity\n",
    "\n",
    "    def __hash__(self) -> str:\n",
    "        return hash(self.name)\n",
    "\n",
    "    def __str__(self):\n",
    "        return f'Товар \"{self.name}\", цена {self.price}, остаток {self.stock}'\n"
   ]
  },
  {
   "cell_type": "code",
   "execution_count": 55,
   "id": "624f41c7",
   "metadata": {},
   "outputs": [],
   "source": [
    "@dataclass\n",
    "class Order:\n",
    "    products: dict[Product, int]\n",
    "\n",
    "    def add_product(self, product: Product, quantity: int) -> None:\n",
    "        product.update_stock(quantity=quantity)\n",
    "        if product not in self.products:\n",
    "            self.products[product] = quantity\n",
    "        else:\n",
    "            self.products[product] += quantity\n",
    "\n",
    "    def calculate_total(self) -> float:\n",
    "        sum_total = sum(\n",
    "            [quantity * product.price for product, quantity in self.products.items()]\n",
    "        )\n",
    "        return sum_total"
   ]
  },
  {
   "cell_type": "code",
   "execution_count": 56,
   "id": "c2b7c09f",
   "metadata": {},
   "outputs": [],
   "source": [
    "from dataclasses import field\n",
    "\n",
    "\n",
    "@dataclass\n",
    "class Store:\n",
    "    products: list[Product] = field(default_factory=list)\n",
    "\n",
    "    def add_product(self, product: Product) -> None:\n",
    "        self.products.append(product)\n",
    "\n",
    "    def list_products(self) -> None:\n",
    "        for product in self.products:\n",
    "            print(str(product))\n",
    "\n",
    "    def create_order(self) -> None:\n",
    "        return Order(products={p: 0 for p in self.products})"
   ]
  },
  {
   "cell_type": "markdown",
   "id": "83d69810",
   "metadata": {},
   "source": [
    "## Test"
   ]
  },
  {
   "cell_type": "code",
   "execution_count": 57,
   "id": "c9d67bba",
   "metadata": {},
   "outputs": [
    {
     "name": "stdout",
     "output_type": "stream",
     "text": [
      "Товар \"Ноутбук\", цена 1000, остаток 5\n",
      "Товар \"Смартфон\", цена 500, остаток 10\n",
      "Общая стоимость заказа: 3500\n",
      "Товар \"Ноутбук\", цена 1000, остаток 3\n",
      "Товар \"Смартфон\", цена 500, остаток 7\n"
     ]
    }
   ],
   "source": [
    "# Создаем магазин\n",
    "store = Store()\n",
    "\n",
    "# Создаем товары\n",
    "product1 = Product(\"Ноутбук\", 1000, 5)\n",
    "product2 = Product(\"Смартфон\", 500, 10)\n",
    "\n",
    "# Добавляем товары в магазин\n",
    "store.add_product(product1)\n",
    "store.add_product(product2)\n",
    "\n",
    "# Список всех товаров\n",
    "store.list_products()\n",
    "\n",
    "# Создаем заказ\n",
    "order = store.create_order()\n",
    "\n",
    "# Добавляем товары в заказ\n",
    "order.add_product(product1, 2)\n",
    "order.add_product(product2, 3)\n",
    "\n",
    "# Выводим общую стоимость заказа\n",
    "total = order.calculate_total()\n",
    "print(f\"Общая стоимость заказа: {total}\")\n",
    "\n",
    "# Проверяем остатки на складе после заказа\n",
    "store.list_products()"
   ]
  },
  {
   "cell_type": "code",
   "execution_count": 58,
   "id": "679a43ac",
   "metadata": {},
   "outputs": [
    {
     "name": "stdout",
     "output_type": "stream",
     "text": [
      "Товара недостаточно на складе\n",
      "Товара недостаточно на складе\n",
      "Общая стоимость заказа: 200000\n",
      "Товар \"Ноутбук\", цена 1000, остаток 3\n",
      "Товар \"Смартфон\", цена 500, остаток 7\n"
     ]
    }
   ],
   "source": [
    "# Создаем заказ\n",
    "order = store.create_order()\n",
    "\n",
    "# Добавляем товары в заказ\n",
    "order.add_product(product1, 100)\n",
    "order.add_product(product2, 200)\n",
    "\n",
    "# Выводим общую стоимость заказа\n",
    "total = order.calculate_total()\n",
    "print(f\"Общая стоимость заказа: {total}\")\n",
    "\n",
    "# Проверяем остатки на складе после заказа\n",
    "store.list_products()"
   ]
  },
  {
   "cell_type": "code",
   "execution_count": null,
   "id": "2799d190",
   "metadata": {},
   "outputs": [],
   "source": []
  }
 ],
 "metadata": {
  "kernelspec": {
   "display_name": "Python 3",
   "language": "python",
   "name": "python3"
  },
  "language_info": {
   "codemirror_mode": {
    "name": "ipython",
    "version": 3
   },
   "file_extension": ".py",
   "mimetype": "text/x-python",
   "name": "python",
   "nbconvert_exporter": "python",
   "pygments_lexer": "ipython3",
   "version": "3.11.9"
  }
 },
 "nbformat": 4,
 "nbformat_minor": 5
}
