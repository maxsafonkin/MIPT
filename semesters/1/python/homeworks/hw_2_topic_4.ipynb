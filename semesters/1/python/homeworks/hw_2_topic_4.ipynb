{
 "cells": [
  {
   "cell_type": "markdown",
   "id": "1f79651e",
   "metadata": {},
   "source": [
    "# Homework 2 / Topic 4"
   ]
  },
  {
   "cell_type": "markdown",
   "id": "6e4ad170",
   "metadata": {},
   "source": [
    "Сафонкин Максим Павлович"
   ]
  },
  {
   "cell_type": "code",
   "execution_count": 34,
   "id": "dc079fa9",
   "metadata": {},
   "outputs": [],
   "source": [
    "from pathlib import Path\n",
    "\n",
    "files_dir_path = Path(\"./files/hw1_topic4\")"
   ]
  },
  {
   "cell_type": "markdown",
   "id": "248ff731",
   "metadata": {},
   "source": [
    "## Task 1"
   ]
  },
  {
   "cell_type": "markdown",
   "id": "c7e2438a",
   "metadata": {},
   "source": [
    "Создайте программу, которая копирует содержимое файла source.txt в новый файл destination.txt."
   ]
  },
  {
   "cell_type": "code",
   "execution_count": null,
   "id": "3eb71d96",
   "metadata": {},
   "outputs": [],
   "source": [
    "import shutil\n",
    "\n",
    "\n",
    "def move(source_file_path: Path, destination_file_path: Path) -> None:\n",
    "    shutil.copy(src=source_file_path, dst=destination_file_path)"
   ]
  },
  {
   "cell_type": "code",
   "execution_count": 36,
   "id": "341cb651",
   "metadata": {},
   "outputs": [],
   "source": [
    "source_file_path = files_dir_path / \"source.txt\"\n",
    "destination_file_path = files_dir_path / \"destination.txt\""
   ]
  },
  {
   "cell_type": "code",
   "execution_count": 37,
   "id": "8bcd4804",
   "metadata": {},
   "outputs": [],
   "source": [
    "move(source_file_path=source_file_path, destination_file_path=destination_file_path)"
   ]
  },
  {
   "cell_type": "code",
   "execution_count": 38,
   "id": "ee0c7c0c",
   "metadata": {},
   "outputs": [
    {
     "name": "stdout",
     "output_type": "stream",
     "text": [
      "Это пример текста в файле source.txt.\n",
      "Здесь находятся несколько строк.\n",
      "Копирование содержимого файла должно быть простым.\n",
      "Удачи в программировании!\n",
      "\n"
     ]
    }
   ],
   "source": [
    "with destination_file_path.open(\"r\") as f:\n",
    "    print(f.read())"
   ]
  },
  {
   "cell_type": "markdown",
   "id": "4863ef1a",
   "metadata": {},
   "source": [
    "## Task 2"
   ]
  },
  {
   "cell_type": "markdown",
   "id": "e1a008a8",
   "metadata": {},
   "source": [
    "Напишите программу, которая считывает файл prices.txt, содержащий информацию о товарах: название, количество и цену, и подсчитывает общую стоимость заказа."
   ]
  },
  {
   "cell_type": "code",
   "execution_count": 52,
   "id": "624f41c7",
   "metadata": {},
   "outputs": [],
   "source": [
    "from typing import Self\n",
    "from dataclasses import dataclass\n",
    "\n",
    "\n",
    "@dataclass\n",
    "class Product:\n",
    "    name: str\n",
    "    quantity: int\n",
    "    price: int\n",
    "\n",
    "    @classmethod\n",
    "    def from_tabulated_file_row(cls, row: str) -> Self:\n",
    "        name, quantity, price = row.split(\"\\t\")\n",
    "        return cls(name=name, quantity=int(quantity), price=int(price))"
   ]
  },
  {
   "cell_type": "code",
   "execution_count": null,
   "id": "3a4ca484",
   "metadata": {},
   "outputs": [],
   "source": [
    "prices_file_path = files_dir_path / \"prices.txt\"\n",
    "\n",
    "with prices_file_path.open(\"r\") as f:\n",
    "    products = [\n",
    "        Product.from_tabulated_file_row(row=row.strip()) for row in f.readlines()\n",
    "    ]"
   ]
  },
  {
   "cell_type": "code",
   "execution_count": 54,
   "id": "f448126d",
   "metadata": {},
   "outputs": [],
   "source": [
    "def calculate_order_sum(products: list[Product]) -> int:\n",
    "    order_sum = sum([p.quantity * p.price for p in products])\n",
    "    return order_sum"
   ]
  },
  {
   "cell_type": "code",
   "execution_count": 55,
   "id": "e2851fba",
   "metadata": {},
   "outputs": [
    {
     "data": {
      "text/plain": [
       "650"
      ]
     },
     "execution_count": 55,
     "metadata": {},
     "output_type": "execute_result"
    }
   ],
   "source": [
    "calculate_order_sum(products=products)"
   ]
  },
  {
   "cell_type": "markdown",
   "id": "20cab927",
   "metadata": {},
   "source": [
    "## Task 3"
   ]
  },
  {
   "cell_type": "markdown",
   "id": "9c8711f4",
   "metadata": {},
   "source": [
    "Напишите программу, которая подсчитывает количество слов в текстовом файле text_file.txt и выводит результат на экран."
   ]
  },
  {
   "cell_type": "code",
   "execution_count": null,
   "id": "c2b7c09f",
   "metadata": {},
   "outputs": [],
   "source": [
    "import re\n",
    "\n",
    "_WORD_PATTERN = re.compile(r\"\\w+\")\n",
    "_PUNCT = \"!.,\\\"'\"\n",
    "\n",
    "\n",
    "def _remove_punct(text: str) -> None:\n",
    "    text_no_punct = re.sub(rf\"[{_PUNCT}]\", \"\", text)\n",
    "    return text_no_punct\n",
    "\n",
    "\n",
    "def count_words(file_path: Path) -> int:\n",
    "    with file_path.open(\"r\") as f:\n",
    "        text = f.read()\n",
    "        text_no_punct = _remove_punct(text=text)\n",
    "        split_text = text_no_punct.split()\n",
    "        words = [word for word in split_text if _WORD_PATTERN.fullmatch(word)]\n",
    "        return len(words)"
   ]
  },
  {
   "cell_type": "code",
   "execution_count": 86,
   "id": "da37f77f",
   "metadata": {},
   "outputs": [
    {
     "data": {
      "text/plain": [
       "19"
      ]
     },
     "execution_count": 86,
     "metadata": {},
     "output_type": "execute_result"
    }
   ],
   "source": [
    "text_file_path = files_dir_path / \"text_file.txt\"\n",
    "\n",
    "count_words(text_file_path)"
   ]
  },
  {
   "cell_type": "markdown",
   "id": "f95ecaee",
   "metadata": {},
   "source": [
    "## Task 4"
   ]
  },
  {
   "cell_type": "markdown",
   "id": "5ad1f821",
   "metadata": {},
   "source": [
    "Создайте программу, которая считывает строки из файла input.txt, сохраняет только уникальные строки и записывает их в новый файл unique_output.txt."
   ]
  },
  {
   "cell_type": "code",
   "execution_count": 100,
   "id": "bb96bf82",
   "metadata": {},
   "outputs": [],
   "source": [
    "def get_unique_lines(file_path: Path) -> list[str]:\n",
    "    with file_path.open(\"r\") as f:\n",
    "        lines = [l.strip() for l in f.readlines()]\n",
    "        return list(set(lines))"
   ]
  },
  {
   "cell_type": "code",
   "execution_count": 102,
   "id": "564647c7",
   "metadata": {},
   "outputs": [],
   "source": [
    "input_file = files_dir_path / \"input.txt\"\n",
    "\n",
    "unique_lines = get_unique_lines(input_file)"
   ]
  },
  {
   "cell_type": "code",
   "execution_count": 103,
   "id": "39c0f19b",
   "metadata": {},
   "outputs": [],
   "source": [
    "output_file = files_dir_path / \"unique_output.txt\"\n",
    "\n",
    "with output_file.open(\"w\") as f:\n",
    "    for line in unique_lines:\n",
    "        f.write(f\"{line}\\n\")"
   ]
  },
  {
   "cell_type": "code",
   "execution_count": 104,
   "id": "637f4b1f",
   "metadata": {},
   "outputs": [
    {
     "name": "stdout",
     "output_type": "stream",
     "text": [
      "HTTP — это простой и расширяемый протокол, который лежит в основе веб-коммуникаций. Он позволяет пользователям получать доступ к ресурсам и взаимодействовать с веб-приложениями, обеспечивая удобный интерфейс для обмена данными.\n",
      "\n"
     ]
    }
   ],
   "source": [
    "with output_file.open(\"r\") as f:\n",
    "    print(f.read())"
   ]
  },
  {
   "cell_type": "code",
   "execution_count": null,
   "id": "c9d67bba",
   "metadata": {},
   "outputs": [],
   "source": []
  }
 ],
 "metadata": {
  "kernelspec": {
   "display_name": "Python 3",
   "language": "python",
   "name": "python3"
  },
  "language_info": {
   "codemirror_mode": {
    "name": "ipython",
    "version": 3
   },
   "file_extension": ".py",
   "mimetype": "text/x-python",
   "name": "python",
   "nbconvert_exporter": "python",
   "pygments_lexer": "ipython3",
   "version": "3.11.9"
  }
 },
 "nbformat": 4,
 "nbformat_minor": 5
}
