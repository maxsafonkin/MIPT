{
 "cells": [
  {
   "cell_type": "markdown",
   "metadata": {
    "id": "E_uv3ENCoyl1"
   },
   "source": [
    "# Task 1"
   ]
  },
  {
   "cell_type": "code",
   "execution_count": 1,
   "metadata": {
    "executionInfo": {
     "elapsed": 2,
     "status": "ok",
     "timestamp": 1756920734554,
     "user": {
      "displayName": "Maxim Safonkin",
      "userId": "05904496297699313618"
     },
     "user_tz": -180
    },
    "id": "8dM7APb8m0yO"
   },
   "outputs": [],
   "source": [
    "def print_middle(word: str) -> str:\n",
    "    word_len = len(word)\n",
    "    res = word[(word_len // 2 - 1):(word_len // 2) + 1] if word_len % 2 == 0 else word[word_len // 2]\n",
    "    return res\n"
   ]
  },
  {
   "cell_type": "code",
   "execution_count": 2,
   "metadata": {
    "colab": {
     "base_uri": "https://localhost:8080/",
     "height": 35
    },
    "executionInfo": {
     "elapsed": 3,
     "status": "ok",
     "timestamp": 1756920734708,
     "user": {
      "displayName": "Maxim Safonkin",
      "userId": "05904496297699313618"
     },
     "user_tz": -180
    },
    "id": "vHSeOFeSoNKb",
    "outputId": "d433717c-993a-4b3f-cb94-887da6b8964c"
   },
   "outputs": [
    {
     "data": {
      "text/plain": [
       "'es'"
      ]
     },
     "execution_count": 2,
     "metadata": {},
     "output_type": "execute_result"
    }
   ],
   "source": [
    "print_middle(\"test\")"
   ]
  },
  {
   "cell_type": "code",
   "execution_count": 3,
   "metadata": {
    "colab": {
     "base_uri": "https://localhost:8080/",
     "height": 35
    },
    "executionInfo": {
     "elapsed": 35,
     "status": "ok",
     "timestamp": 1756920747473,
     "user": {
      "displayName": "Maxim Safonkin",
      "userId": "05904496297699313618"
     },
     "user_tz": -180
    },
    "id": "as9SlFQxorZM",
    "outputId": "8c811e67-47f2-453c-bb5e-a38588c2cf55"
   },
   "outputs": [
    {
     "data": {
      "text/plain": [
       "'t'"
      ]
     },
     "execution_count": 3,
     "metadata": {},
     "output_type": "execute_result"
    }
   ],
   "source": [
    "print_middle(\"testing\")"
   ]
  },
  {
   "cell_type": "markdown",
   "metadata": {
    "id": "MxG0dkQHo01U"
   },
   "source": [
    "# Task 2"
   ]
  },
  {
   "cell_type": "code",
   "execution_count": 4,
   "metadata": {
    "executionInfo": {
     "elapsed": 6,
     "status": "ok",
     "timestamp": 1756920861098,
     "user": {
      "displayName": "Maxim Safonkin",
      "userId": "05904496297699313618"
     },
     "user_tz": -180
    },
    "id": "ZiJdzoehpE4x"
   },
   "outputs": [],
   "source": [
    "from dataclasses import dataclass\n",
    "\n",
    "@dataclass\n",
    "class Pair:\n",
    "    boy_name: str\n",
    "    girl_name: str"
   ]
  },
  {
   "cell_type": "code",
   "execution_count": 5,
   "metadata": {
    "executionInfo": {
     "elapsed": 9,
     "status": "ok",
     "timestamp": 1756920916372,
     "user": {
      "displayName": "Maxim Safonkin",
      "userId": "05904496297699313618"
     },
     "user_tz": -180
    },
    "id": "IcFSzUMBoxQ6"
   },
   "outputs": [],
   "source": [
    "def make_dates(boys: list[str], girls: list[str]) -> list[Pair] | None:\n",
    "    if len(boys) != len(girls):\n",
    "        return None\n",
    "\n",
    "    boys.sort()\n",
    "    girls.sort()\n",
    "\n",
    "    return [\n",
    "        Pair(boy_name=boys[i], girl_name=girls[i])\n",
    "        for i in range(len(boys))\n",
    "    ]"
   ]
  },
  {
   "cell_type": "code",
   "execution_count": 6,
   "metadata": {
    "executionInfo": {
     "elapsed": 2,
     "status": "ok",
     "timestamp": 1756921119354,
     "user": {
      "displayName": "Maxim Safonkin",
      "userId": "05904496297699313618"
     },
     "user_tz": -180
    },
    "id": "pxKaw6Ztp9Y7"
   },
   "outputs": [],
   "source": [
    "def print_report(pairs: list[Pair] | None) -> None:\n",
    "    if pairs is None:\n",
    "        print(\"Результат: Внимание, кто-то может остаться без пары!\")\n",
    "    else:\n",
    "        print(\"Результат:\")\n",
    "        print(\"Идеальные пары:\")\n",
    "        for pair in pairs:\n",
    "            print(f\"{pair.boy_name} и {pair.girl_name}\")"
   ]
  },
  {
   "cell_type": "code",
   "execution_count": 7,
   "metadata": {
    "colab": {
     "base_uri": "https://localhost:8080/"
    },
    "executionInfo": {
     "elapsed": 4,
     "status": "ok",
     "timestamp": 1756921119541,
     "user": {
      "displayName": "Maxim Safonkin",
      "userId": "05904496297699313618"
     },
     "user_tz": -180
    },
    "id": "nPJib2_RpagS",
    "outputId": "e0fdf4ab-b579-44c3-8b6e-487d2a94e1c0"
   },
   "outputs": [
    {
     "name": "stdout",
     "output_type": "stream",
     "text": [
      "Результат:\n",
      "Идеальные пары:\n",
      "Alex и Emma\n",
      "Arthur и Kate\n",
      "John и Kira\n",
      "Peter и Liza\n",
      "Richard и Trisha\n"
     ]
    }
   ],
   "source": [
    "boys = ['Peter', 'Alex', 'John', 'Arthur', 'Richard']\n",
    "girls = ['Kate', 'Liza', 'Kira', 'Emma', 'Trisha']\n",
    "\n",
    "pairs = make_dates(boys=boys, girls=girls)\n",
    "\n",
    "print_report(pairs=pairs)"
   ]
  },
  {
   "cell_type": "code",
   "execution_count": 8,
   "metadata": {
    "colab": {
     "base_uri": "https://localhost:8080/"
    },
    "executionInfo": {
     "elapsed": 31,
     "status": "ok",
     "timestamp": 1756921119819,
     "user": {
      "displayName": "Maxim Safonkin",
      "userId": "05904496297699313618"
     },
     "user_tz": -180
    },
    "id": "6F2Wu_7BpifP",
    "outputId": "7c6f49ad-d0b0-4137-e81e-9a7f2b262e4f"
   },
   "outputs": [
    {
     "name": "stdout",
     "output_type": "stream",
     "text": [
      "Результат: Внимание, кто-то может остаться без пары!\n"
     ]
    }
   ],
   "source": [
    "boys = ['Peter', 'Alex', 'John', 'Arthur', 'Richard', 'Michael']\n",
    "girls = ['Kate', 'Liza', 'Kira', 'Emma', 'Trisha']\n",
    "\n",
    "pairs = make_dates(boys=boys, girls=girls)\n",
    "\n",
    "print_report(pairs=pairs)"
   ]
  }
 ],
 "metadata": {
  "colab": {
   "authorship_tag": "ABX9TyPe/2ltZNmTd+MnuYQ1GSeu",
   "provenance": []
  },
  "kernelspec": {
   "display_name": "Python 3",
   "name": "python3"
  },
  "language_info": {
   "codemirror_mode": {
    "name": "ipython",
    "version": 3
   },
   "file_extension": ".py",
   "mimetype": "text/x-python",
   "name": "python",
   "nbconvert_exporter": "python",
   "pygments_lexer": "ipython3",
   "version": "3.11.9"
  }
 },
 "nbformat": 4,
 "nbformat_minor": 0
}
