{
 "cells": [
  {
   "cell_type": "markdown",
   "metadata": {},
   "source": [
    "# Task 1"
   ]
  },
  {
   "cell_type": "code",
   "execution_count": 1,
   "metadata": {
    "id": "ErZcn36Ujpgi"
   },
   "outputs": [],
   "source": [
    "# ref: https://ru.wikipedia.org/wiki/%D0%92%D0%B8%D1%81%D0%BE%D0%BA%D0%BE%D1%81%D0%BD%D1%8B%D0%B9_%D0%B3%D0%BE%D0%B4\n",
    "\n",
    "def is_leap(year: int) -> str:\n",
    "    is_leap_ = (year % 4 == 0 and year % 100 != 0) or year % 400 == 0\n",
    "    result = \"Високосный год\" if is_leap_ else \"Обычный год\"\n",
    "    return result\n"
   ]
  },
  {
   "cell_type": "code",
   "execution_count": 2,
   "metadata": {
    "colab": {
     "base_uri": "https://localhost:8080/",
     "height": 35
    },
    "executionInfo": {
     "elapsed": 70,
     "status": "ok",
     "timestamp": 1756920069171,
     "user": {
      "displayName": "Maxim Safonkin",
      "userId": "05904496297699313618"
     },
     "user_tz": -180
    },
    "id": "-6TzjmUdlbwZ",
    "outputId": "dc4e36b1-c982-4b6a-dc05-43952e865ba7"
   },
   "outputs": [
    {
     "data": {
      "text/plain": [
       "'Обычный год'"
      ]
     },
     "execution_count": 2,
     "metadata": {},
     "output_type": "execute_result"
    }
   ],
   "source": [
    "is_leap(1999)"
   ]
  },
  {
   "cell_type": "code",
   "execution_count": 3,
   "metadata": {
    "colab": {
     "base_uri": "https://localhost:8080/",
     "height": 35
    },
    "executionInfo": {
     "elapsed": 48,
     "status": "ok",
     "timestamp": 1756920069358,
     "user": {
      "displayName": "Maxim Safonkin",
      "userId": "05904496297699313618"
     },
     "user_tz": -180
    },
    "id": "TsuCs0QQkpUP",
    "outputId": "0f3b132c-39d7-4197-c642-63d7c6892e38"
   },
   "outputs": [
    {
     "data": {
      "text/plain": [
       "'Високосный год'"
      ]
     },
     "execution_count": 3,
     "metadata": {},
     "output_type": "execute_result"
    }
   ],
   "source": [
    "is_leap(2000)"
   ]
  },
  {
   "cell_type": "markdown",
   "metadata": {},
   "source": [
    "# Task 2"
   ]
  },
  {
   "cell_type": "code",
   "execution_count": 4,
   "metadata": {
    "id": "w4L5Ie10kqZh"
   },
   "outputs": [],
   "source": [
    "def is_happy_one(number: int) -> str:\n",
    "    digits = list(map(int, list(str(number))))\n",
    "    is_happy_one_ = sum(digits[:3]) == sum(digits[3:])\n",
    "    result = \"Счастливый билет\" if is_happy_one_ else \"Несчастливый билет\"\n",
    "    return result"
   ]
  },
  {
   "cell_type": "code",
   "execution_count": 5,
   "metadata": {
    "colab": {
     "base_uri": "https://localhost:8080/",
     "height": 35
    },
    "executionInfo": {
     "elapsed": 2,
     "status": "ok",
     "timestamp": 1756920116332,
     "user": {
      "displayName": "Maxim Safonkin",
      "userId": "05904496297699313618"
     },
     "user_tz": -180
    },
    "id": "dlFKaCmVmE9r",
    "outputId": "9a461c5f-da24-4bd2-aef2-d28aa6ce9804"
   },
   "outputs": [
    {
     "data": {
      "text/plain": [
       "'Несчастливый билет'"
      ]
     },
     "execution_count": 5,
     "metadata": {},
     "output_type": "execute_result"
    }
   ],
   "source": [
    "is_happy_one(123456)"
   ]
  },
  {
   "cell_type": "code",
   "execution_count": 6,
   "metadata": {
    "colab": {
     "base_uri": "https://localhost:8080/",
     "height": 35
    },
    "executionInfo": {
     "elapsed": 20,
     "status": "ok",
     "timestamp": 1756920116483,
     "user": {
      "displayName": "Maxim Safonkin",
      "userId": "05904496297699313618"
     },
     "user_tz": -180
    },
    "id": "BKkNYBS1mGO8",
    "outputId": "26efc1b5-61c6-4a8f-bca6-66f18c7313f5"
   },
   "outputs": [
    {
     "data": {
      "text/plain": [
       "'Счастливый билет'"
      ]
     },
     "execution_count": 6,
     "metadata": {},
     "output_type": "execute_result"
    }
   ],
   "source": [
    "is_happy_one(123321)"
   ]
  }
 ],
 "metadata": {
  "colab": {
   "authorship_tag": "ABX9TyNx4QXUQnOO8PVNGU8AKX5y",
   "provenance": []
  },
  "kernelspec": {
   "display_name": "Python 3",
   "name": "python3"
  },
  "language_info": {
   "codemirror_mode": {
    "name": "ipython",
    "version": 3
   },
   "file_extension": ".py",
   "mimetype": "text/x-python",
   "name": "python",
   "nbconvert_exporter": "python",
   "pygments_lexer": "ipython3",
   "version": "3.11.9"
  }
 },
 "nbformat": 4,
 "nbformat_minor": 0
}
