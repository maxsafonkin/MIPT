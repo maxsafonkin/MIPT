{
 "cells": [
  {
   "cell_type": "markdown",
   "id": "a0ad5f60",
   "metadata": {},
   "source": [
    "# Homework 2 / Topic 3"
   ]
  },
  {
   "cell_type": "markdown",
   "id": "024f9db2",
   "metadata": {},
   "source": [
    "Сафонкин Максим Павлович"
   ]
  },
  {
   "cell_type": "markdown",
   "id": "df858556",
   "metadata": {},
   "source": [
    "## Task 1"
   ]
  },
  {
   "cell_type": "markdown",
   "id": "acd2d17a",
   "metadata": {},
   "source": [
    "Напишите программу, которая принимает два числа от пользователя и выводит результат их деления. Используйте обработку исключений, чтобы корректно обработать ситуацию, когда пользователь вводит 0 в качестве второго числа."
   ]
  },
  {
   "cell_type": "code",
   "execution_count": 21,
   "id": "b8e3b2c1",
   "metadata": {},
   "outputs": [],
   "source": [
    "def division():\n",
    "    num1 = float(input())\n",
    "    num2 = float(input())\n",
    "    try:\n",
    "        return num1 / num2\n",
    "    except ZeroDivisionError:\n",
    "        print(\"Zero division error\")"
   ]
  },
  {
   "cell_type": "code",
   "execution_count": 22,
   "id": "cd32db92",
   "metadata": {},
   "outputs": [
    {
     "data": {
      "text/plain": [
       "2.0"
      ]
     },
     "execution_count": 22,
     "metadata": {},
     "output_type": "execute_result"
    }
   ],
   "source": [
    "# num1 = 4, num2 = 2\n",
    "\n",
    "division()"
   ]
  },
  {
   "cell_type": "code",
   "execution_count": 23,
   "id": "9df0c9cc",
   "metadata": {},
   "outputs": [
    {
     "name": "stdout",
     "output_type": "stream",
     "text": [
      "Zero division error\n"
     ]
    }
   ],
   "source": [
    "# num1 = 4, num2 = 0\n",
    "\n",
    "division()"
   ]
  },
  {
   "cell_type": "markdown",
   "id": "fbca8d75",
   "metadata": {},
   "source": [
    "## Task 2"
   ]
  },
  {
   "cell_type": "markdown",
   "id": "d227e463",
   "metadata": {},
   "source": [
    "Расширьте предыдущую программу, чтобы она также обрабатывала ситуацию, когда пользователь вводит строку вместо числа. Используйте несколько блоков except для обработки разных типов исключений."
   ]
  },
  {
   "cell_type": "code",
   "execution_count": 24,
   "id": "88737752",
   "metadata": {},
   "outputs": [],
   "source": [
    "def division():\n",
    "    try:\n",
    "        num1 = float(input())\n",
    "        num2 = float(input())\n",
    "        return num1 / num2\n",
    "    except ValueError as exc:\n",
    "        print(f\"Invalid input: {exc}\")\n",
    "    except ZeroDivisionError:\n",
    "        print(\"Zero division error\")"
   ]
  },
  {
   "cell_type": "code",
   "execution_count": 25,
   "id": "e91fdfbd",
   "metadata": {},
   "outputs": [
    {
     "data": {
      "text/plain": [
       "2.0"
      ]
     },
     "execution_count": 25,
     "metadata": {},
     "output_type": "execute_result"
    }
   ],
   "source": [
    "# num1 = 4, num2 = 2\n",
    "\n",
    "division()"
   ]
  },
  {
   "cell_type": "code",
   "execution_count": 26,
   "id": "0bef13c3",
   "metadata": {},
   "outputs": [
    {
     "name": "stdout",
     "output_type": "stream",
     "text": [
      "Zero division error\n"
     ]
    }
   ],
   "source": [
    "# num1 = 4, num2 = 0\n",
    "\n",
    "division()"
   ]
  },
  {
   "cell_type": "code",
   "execution_count": 27,
   "id": "3c46f16e",
   "metadata": {},
   "outputs": [
    {
     "name": "stdout",
     "output_type": "stream",
     "text": [
      "Invalid input: could not convert string to float: 'abc'\n"
     ]
    }
   ],
   "source": [
    "# num1 = abc, num2 = 0\n",
    "\n",
    "division()"
   ]
  },
  {
   "cell_type": "markdown",
   "id": "4f8b1824",
   "metadata": {},
   "source": [
    "## Task 3"
   ]
  },
  {
   "cell_type": "markdown",
   "id": "2e49b3ae",
   "metadata": {},
   "source": [
    "Напишите программу, которая вычисляет сумму списка целых чисел. Создайте свои собственные классы исключений для обработки ситуаций, когда в списке есть хотя бы одно чётное или отрицательное число. Используйте оператор raise для генерации исключений.\n"
   ]
  },
  {
   "cell_type": "code",
   "execution_count": null,
   "id": "fa5afe38",
   "metadata": {},
   "outputs": [],
   "source": [
    "class SummarizerError(Exception):\n",
    "    \"\"\"Base error for Summarizer\"\"\"\n",
    "\n",
    "\n",
    "class OddNumberError(SummarizerError):\n",
    "    \"\"\"Raised when odd number found\"\"\"\n",
    "\n",
    "\n",
    "class NegativeNumberError(SummarizerError):\n",
    "    \"\"\"Raised when negative number found\"\"\""
   ]
  },
  {
   "cell_type": "code",
   "execution_count": null,
   "id": "d64e3714",
   "metadata": {},
   "outputs": [],
   "source": [
    "def sum_numbers(numbers: list[int]) -> int:\n",
    "    sum_ = 0\n",
    "\n",
    "    for num in numbers:\n",
    "        if num % 2 == 0:\n",
    "            msg_exc = \"Odd number found\"\n",
    "            raise OddNumberError(msg_exc)\n",
    "\n",
    "        if num < 0:\n",
    "            msg_exc = \"Negative number found\"\n",
    "            raise NegativeNumberError(msg_exc)\n",
    "\n",
    "        sum_ += num\n",
    "\n",
    "    return sum_"
   ]
  },
  {
   "cell_type": "code",
   "execution_count": 32,
   "id": "87edb308",
   "metadata": {},
   "outputs": [
    {
     "data": {
      "text/plain": [
       "9"
      ]
     },
     "execution_count": 32,
     "metadata": {},
     "output_type": "execute_result"
    }
   ],
   "source": [
    "numbers = [1, 3, 5]\n",
    "sum_numbers(numbers=numbers)"
   ]
  },
  {
   "cell_type": "code",
   "execution_count": 33,
   "id": "686df9fa",
   "metadata": {},
   "outputs": [
    {
     "ename": "OddNumberError",
     "evalue": "Odd number found",
     "output_type": "error",
     "traceback": [
      "\u001b[31m---------------------------------------------------------------------------\u001b[39m",
      "\u001b[31mOddNumberError\u001b[39m                            Traceback (most recent call last)",
      "\u001b[36mCell\u001b[39m\u001b[36m \u001b[39m\u001b[32mIn[33]\u001b[39m\u001b[32m, line 2\u001b[39m\n\u001b[32m      1\u001b[39m numbers = [\u001b[32m1\u001b[39m, \u001b[32m2\u001b[39m, \u001b[32m3\u001b[39m, \u001b[32m4\u001b[39m]\n\u001b[32m----> \u001b[39m\u001b[32m2\u001b[39m \u001b[43msum_numbers\u001b[49m\u001b[43m(\u001b[49m\u001b[43mnumbers\u001b[49m\u001b[43m=\u001b[49m\u001b[43mnumbers\u001b[49m\u001b[43m)\u001b[49m\n",
      "\u001b[36mCell\u001b[39m\u001b[36m \u001b[39m\u001b[32mIn[30]\u001b[39m\u001b[32m, line 7\u001b[39m, in \u001b[36msum_numbers\u001b[39m\u001b[34m(numbers)\u001b[39m\n\u001b[32m      5\u001b[39m \u001b[38;5;28;01mif\u001b[39;00m num % \u001b[32m2\u001b[39m == \u001b[32m0\u001b[39m:\n\u001b[32m      6\u001b[39m     msg_exc = \u001b[33m\"\u001b[39m\u001b[33mOdd number found\u001b[39m\u001b[33m\"\u001b[39m\n\u001b[32m----> \u001b[39m\u001b[32m7\u001b[39m     \u001b[38;5;28;01mraise\u001b[39;00m OddNumberError(msg_exc)\n\u001b[32m      9\u001b[39m \u001b[38;5;28;01mif\u001b[39;00m num < \u001b[32m0\u001b[39m:\n\u001b[32m     10\u001b[39m     msg_exc = \u001b[33m\"\u001b[39m\u001b[33mNegative number found\u001b[39m\u001b[33m\"\u001b[39m\n",
      "\u001b[31mOddNumberError\u001b[39m: Odd number found"
     ]
    }
   ],
   "source": [
    "numbers = [1, 2, 3, 4]\n",
    "sum_numbers(numbers=numbers)"
   ]
  },
  {
   "cell_type": "code",
   "execution_count": 34,
   "id": "4cb46417",
   "metadata": {},
   "outputs": [
    {
     "ename": "NegativeNumberError",
     "evalue": "Negative number found",
     "output_type": "error",
     "traceback": [
      "\u001b[31m---------------------------------------------------------------------------\u001b[39m",
      "\u001b[31mNegativeNumberError\u001b[39m                       Traceback (most recent call last)",
      "\u001b[36mCell\u001b[39m\u001b[36m \u001b[39m\u001b[32mIn[34]\u001b[39m\u001b[32m, line 2\u001b[39m\n\u001b[32m      1\u001b[39m numbers = [-\u001b[32m1\u001b[39m, \u001b[32m2\u001b[39m, \u001b[32m3\u001b[39m, \u001b[32m4\u001b[39m]\n\u001b[32m----> \u001b[39m\u001b[32m2\u001b[39m \u001b[43msum_numbers\u001b[49m\u001b[43m(\u001b[49m\u001b[43mnumbers\u001b[49m\u001b[43m=\u001b[49m\u001b[43mnumbers\u001b[49m\u001b[43m)\u001b[49m\n",
      "\u001b[36mCell\u001b[39m\u001b[36m \u001b[39m\u001b[32mIn[30]\u001b[39m\u001b[32m, line 11\u001b[39m, in \u001b[36msum_numbers\u001b[39m\u001b[34m(numbers)\u001b[39m\n\u001b[32m      9\u001b[39m     \u001b[38;5;28;01mif\u001b[39;00m num < \u001b[32m0\u001b[39m:\n\u001b[32m     10\u001b[39m         msg_exc = \u001b[33m\"\u001b[39m\u001b[33mNegative number found\u001b[39m\u001b[33m\"\u001b[39m\n\u001b[32m---> \u001b[39m\u001b[32m11\u001b[39m         \u001b[38;5;28;01mraise\u001b[39;00m NegativeNumberError(msg_exc)\n\u001b[32m     13\u001b[39m     sum_ += num\n\u001b[32m     15\u001b[39m \u001b[38;5;28;01mreturn\u001b[39;00m sum_\n",
      "\u001b[31mNegativeNumberError\u001b[39m: Negative number found"
     ]
    }
   ],
   "source": [
    "numbers = [-1, 2, 3, 4]\n",
    "sum_numbers(numbers=numbers)"
   ]
  },
  {
   "cell_type": "markdown",
   "id": "30ec0669",
   "metadata": {},
   "source": [
    "## Task 4"
   ]
  },
  {
   "cell_type": "markdown",
   "id": "8ff7325c",
   "metadata": {},
   "source": [
    "Напишите программу, которая принимает от пользователя индекс элемента списка и выводит значение этого элемента. Используйте обработку исключений для корректной обработки ситуаций, когда пользователь вводит индекс, выходящий за пределы списка."
   ]
  },
  {
   "cell_type": "code",
   "execution_count": 35,
   "id": "604571e5",
   "metadata": {},
   "outputs": [],
   "source": [
    "numbers = [1, 2, 3, 4, 5]"
   ]
  },
  {
   "cell_type": "code",
   "execution_count": 37,
   "id": "65a53cd9",
   "metadata": {},
   "outputs": [],
   "source": [
    "def pop(index: int) -> int:\n",
    "    try:\n",
    "        return numbers[index]\n",
    "    except IndexError:\n",
    "        print(f\"Element with index {index} doesn't exist\")"
   ]
  },
  {
   "cell_type": "code",
   "execution_count": 38,
   "id": "ec2fdae5",
   "metadata": {},
   "outputs": [
    {
     "data": {
      "text/plain": [
       "2"
      ]
     },
     "execution_count": 38,
     "metadata": {},
     "output_type": "execute_result"
    }
   ],
   "source": [
    "pop(1)"
   ]
  },
  {
   "cell_type": "code",
   "execution_count": 39,
   "id": "ca786349",
   "metadata": {},
   "outputs": [
    {
     "name": "stdout",
     "output_type": "stream",
     "text": [
      "Element with index 10 doesn't exist\n"
     ]
    }
   ],
   "source": [
    "pop(10)"
   ]
  },
  {
   "cell_type": "markdown",
   "id": "3c879ea9",
   "metadata": {},
   "source": [
    "## Task 5"
   ]
  },
  {
   "cell_type": "markdown",
   "id": "c4b6c1bc",
   "metadata": {},
   "source": [
    "Напишите программу, которая принимает от пользователя строку и преобразует её в число с плавающей точкой. Используйте обработку исключений для корректной обработки ситуаций, когда пользователь вводит строку, которую невозможно преобразовать в число."
   ]
  },
  {
   "cell_type": "code",
   "execution_count": 40,
   "id": "ec1f321e",
   "metadata": {},
   "outputs": [],
   "source": [
    "def convert(float_str: str) -> float:\n",
    "    try:\n",
    "        return float(float_str)\n",
    "    except ValueError as exc:\n",
    "        print(f\"Invalid input: {exc}\")"
   ]
  },
  {
   "cell_type": "code",
   "execution_count": null,
   "id": "f6a9dfd7",
   "metadata": {},
   "outputs": [
    {
     "data": {
      "text/plain": [
       "123.123"
      ]
     },
     "execution_count": 42,
     "metadata": {},
     "output_type": "execute_result"
    }
   ],
   "source": [
    "user_input = input()  # 123.123\n",
    "convert(user_input)"
   ]
  },
  {
   "cell_type": "code",
   "execution_count": null,
   "id": "d9e614d2",
   "metadata": {},
   "outputs": [
    {
     "name": "stdout",
     "output_type": "stream",
     "text": [
      "Invalid input: could not convert string to float: 'abcde'\n"
     ]
    }
   ],
   "source": [
    "user_input = input()  # abcde\n",
    "convert(user_input)"
   ]
  },
  {
   "cell_type": "markdown",
   "id": "3c00b8e9",
   "metadata": {},
   "source": [
    "## Task 6"
   ]
  },
  {
   "cell_type": "markdown",
   "id": "481ed73f",
   "metadata": {},
   "source": [
    "Напишите программу, которая импортирует модуль math и использует функцию sqrt() для вычисления квадратного корня числа, введённого пользователем. Используйте обработку исключений для корректной обработки ситуаций, когда модуль math не может быть импортирован или функция sqrt() не может быть вызвана для отрицательного числа."
   ]
  },
  {
   "cell_type": "code",
   "execution_count": 50,
   "id": "b20b3de5",
   "metadata": {},
   "outputs": [],
   "source": [
    "try:\n",
    "    import math\n",
    "except ImportError:\n",
    "    print(\"Coudln't import module `math`\")"
   ]
  },
  {
   "cell_type": "code",
   "execution_count": 58,
   "id": "d8338739",
   "metadata": {},
   "outputs": [],
   "source": [
    "def sqrt(number: float) -> float:\n",
    "    if number < 0:\n",
    "        print(f\"Couldn't extract square root from negative number {number}\")\n",
    "        return\n",
    "\n",
    "    return math.sqrt(number)"
   ]
  },
  {
   "cell_type": "code",
   "execution_count": 59,
   "id": "6b8ae419",
   "metadata": {},
   "outputs": [
    {
     "data": {
      "text/plain": [
       "4.0"
      ]
     },
     "execution_count": 59,
     "metadata": {},
     "output_type": "execute_result"
    }
   ],
   "source": [
    "user_input = input()  # 16\n",
    "number = convert(user_input)\n",
    "sqrt(number)"
   ]
  },
  {
   "cell_type": "code",
   "execution_count": 60,
   "id": "be0bc7b7",
   "metadata": {},
   "outputs": [
    {
     "name": "stdout",
     "output_type": "stream",
     "text": [
      "Couldn't extract square root from negative number -1.0\n"
     ]
    }
   ],
   "source": [
    "user_input = input()  # -1\n",
    "number = convert(user_input)\n",
    "sqrt(number)"
   ]
  }
 ],
 "metadata": {
  "kernelspec": {
   "display_name": "Python 3",
   "language": "python",
   "name": "python3"
  },
  "language_info": {
   "codemirror_mode": {
    "name": "ipython",
    "version": 3
   },
   "file_extension": ".py",
   "mimetype": "text/x-python",
   "name": "python",
   "nbconvert_exporter": "python",
   "pygments_lexer": "ipython3",
   "version": "3.11.9"
  }
 },
 "nbformat": 4,
 "nbformat_minor": 5
}
